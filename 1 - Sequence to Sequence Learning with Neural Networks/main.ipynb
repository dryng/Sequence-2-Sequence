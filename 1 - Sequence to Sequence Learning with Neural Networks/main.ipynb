{
 "cells": [
  {
   "cell_type": "code",
   "execution_count": 1,
   "metadata": {},
   "outputs": [],
   "source": [
    "import torch\n",
    "import torch.nn as nn\n",
    "import torch.optim as optim\n",
    "\n",
    "from torchtext.datasets import Multi30k\n",
    "from torchtext.data import Field, BucketIterator\n",
    "\n",
    "import spacy\n",
    "import numpy as np\n",
    "\n",
    "import random\n",
    "import math\n",
    "import time\n",
    "# import IPython.core.debugger import set_trace"
   ]
  },
  {
   "cell_type": "code",
   "execution_count": 2,
   "metadata": {},
   "outputs": [],
   "source": [
    "# random seeds to get same results\n",
    "# “deterministic” algorithms: given the same input, \n",
    "# and when run on the same software and hardware, always produce the same output.\n",
    "SEED = 1234\n",
    "\n",
    "random.seed(SEED)\n",
    "np.random.seed(SEED)\n",
    "torch.manual_seed(SEED)\n",
    "torch.cuda.manual_seed(SEED)\n",
    "torch.backends.cudnn.deterministic = True"
   ]
  },
  {
   "cell_type": "code",
   "execution_count": 6,
   "metadata": {},
   "outputs": [],
   "source": [
    "# tokenizers\n",
    "spacy_de = spacy.load('de')\n",
    "spacy_en = spacy.load('en')\n",
    "\n",
    "# to install spacy languages use:\n",
    "# python -m spacy download en\n",
    "# python -m spacy download de"
   ]
  },
  {
   "cell_type": "code",
   "execution_count": 7,
   "metadata": {},
   "outputs": [],
   "source": [
    "# tokenizer functions\n",
    "def tokenize_de(text):\n",
    "    \"\"\"\n",
    "    Tokenizes German text from a string into a list of strings (tokens) and reverses it (paper says to)\n",
    "    \"\"\"\n",
    "    return [tok.text for tok in spacy_de.tokenizer(text)][::-1]\n",
    "\n",
    "def tokenize_en(text):\n",
    "    \"\"\"\n",
    "    Tokenizes English text from a string into a list of strings (tokens)\n",
    "    \"\"\"\n",
    "    return [tok.text for tok in spacy_en.tokenizer(text)]"
   ]
  },
  {
   "cell_type": "code",
   "execution_count": 8,
   "metadata": {},
   "outputs": [],
   "source": [
    "# TorchText's Fields to handle how data should be processed\n",
    "SRC = Field(tokenize=tokenize_de,\n",
    "           init_token = '<sos>',\n",
    "           eos_token = '<eos>',\n",
    "           lower = True)\n",
    "\n",
    "TRG = Field(tokenize=tokenize_en,\n",
    "           init_token = '<sos>',\n",
    "           eos_token = '<eos>',\n",
    "           lower = True)"
   ]
  },
  {
   "cell_type": "code",
   "execution_count": 9,
   "metadata": {},
   "outputs": [],
   "source": [
    "# download and load the train, validation and test data.\n",
    "train_data, valid_data, test_data = Multi30k.splits(exts = ('.de', '.en'),\n",
    "                                                   fields = (SRC, TRG))"
   ]
  },
  {
   "cell_type": "code",
   "execution_count": 10,
   "metadata": {},
   "outputs": [
    {
     "name": "stdout",
     "output_type": "stream",
     "text": [
      "Number of training examples: 29000\n",
      "Number of validation examples: 1014\n",
      "Number of testing examples: 1000\n"
     ]
    }
   ],
   "source": [
    "# check sizes (don't need .examples)\n",
    "print(f\"Number of training examples: {len(train_data.examples)}\")\n",
    "print(f\"Number of validation examples: {len(valid_data.examples)}\")\n",
    "print(f\"Number of testing examples: {len(test_data.examples)}\")"
   ]
  },
  {
   "cell_type": "code",
   "execution_count": 11,
   "metadata": {},
   "outputs": [
    {
     "name": "stdout",
     "output_type": "stream",
     "text": [
      "{'src': ['.', 'büsche', 'vieler', 'nähe', 'der', 'in', 'freien', 'im', 'sind', 'männer', 'weiße', 'junge', 'zwei'], 'trg': ['two', 'young', ',', 'white', 'males', 'are', 'outside', 'near', 'many', 'bushes', '.']}\n"
     ]
    }
   ],
   "source": [
    "# print example\n",
    "# print(train_data.examples[0].__dict__)\n",
    "print(vars(train_data.examples[0]))"
   ]
  },
  {
   "cell_type": "code",
   "execution_count": 12,
   "metadata": {},
   "outputs": [],
   "source": [
    "# build vocab (always just training data)\n",
    "SRC.build_vocab(train_data, min_freq = 2)\n",
    "TRG.build_vocab(train_data, min_freq = 2)"
   ]
  },
  {
   "cell_type": "code",
   "execution_count": 13,
   "metadata": {},
   "outputs": [
    {
     "name": "stdout",
     "output_type": "stream",
     "text": [
      "Unique tokens in source (de) vocabulary: 7855\n",
      "Unique tokens in target (en) vocabulary: 5893\n"
     ]
    }
   ],
   "source": [
    "# unique tokens in vocabs\n",
    "print(f\"Unique tokens in source (de) vocabulary: {len(SRC.vocab)}\")\n",
    "print(f\"Unique tokens in target (en) vocabulary: {len(TRG.vocab)}\")"
   ]
  },
  {
   "cell_type": "markdown",
   "metadata": {},
   "source": [
    "The final step of preparing the data is to create the iterators. These can be iterated on to return a batch of data which will have a src attribute (the PyTorch tensors containing a batch of numericalized source sentences) and a trg attribute (the PyTorch tensors containing a batch of numericalized target sentences). Numericalized is just a fancy way of saying they have been converted from a sequence of readable tokens to a sequence of corresponding indexes, using the vocabulary.\n",
    "\n",
    "Uses a BucketIterator instead of the standard Iterator as it creates batches in such a way that it minimizes the amount of padding in both the source and target sentences."
   ]
  },
  {
   "cell_type": "code",
   "execution_count": 14,
   "metadata": {},
   "outputs": [],
   "source": [
    "device = torch.device('cuda' if torch.cuda.is_available() else 'cpu')"
   ]
  },
  {
   "cell_type": "code",
   "execution_count": 47,
   "metadata": {},
   "outputs": [],
   "source": [
    "BATCH_SIZE = 128\n",
    "\n",
    "train_iterator, valid_iterator, test_iterator = BucketIterator.splits(\n",
    "    (train_data, valid_data, test_data), \n",
    "    batch_size = BATCH_SIZE,\n",
    "    device = device)"
   ]
  },
  {
   "cell_type": "markdown",
   "metadata": {},
   "source": [
    "# BUILDING Seq2Seq model\n",
    "\n",
    "Build model in three parts: The encoder, the decoder and a seq2seq model that encapsulates the encoder and decoder and will provide a way to interface with each."
   ]
  },
  {
   "cell_type": "markdown",
   "metadata": {},
   "source": [
    "### Encoder (2 layer LSTM)\n",
    "\n",
    "Parameters:\n",
    "\n",
    "* input_dim: is the size/dimensionality of the one-hot vectors that will be input to the encoder. This is equal to the input (source) vocabulary size.\n",
    "\n",
    "* emb_dim: is the dimensionality of the embedding layer. This layer converts the one-hot vectors into dense vectors with emb_dim dimensions.\n",
    "\n",
    "* hid_dim: is the dimensionality of the hidden and cell states.\n",
    "\n",
    "* n_layers: is the number of layers in the RNN.\n",
    "\n",
    "* dropout: is the amount of dropout to use. This is a regularization \n",
    "parameter to prevent overfitting. Check out this for more details about dropout.\n",
    "\n",
    "<img src=\"images/encoder.png\">"
   ]
  },
  {
   "cell_type": "code",
   "execution_count": 48,
   "metadata": {},
   "outputs": [],
   "source": [
    "class Encoder(nn.Module):\n",
    "    def __init__(self, input_dim, emd_dim, hid_dim, n_layers, dropout):\n",
    "        super(Encoder, self).__init__()\n",
    "        \n",
    "        self.hid_dim = hid_dim\n",
    "        self.n_layers = n_layers\n",
    "        \n",
    "        self.embedding = nn.Embedding(input_dim, emd_dim)\n",
    "        self.rnn = nn.LSTM(emd_dim, hid_dim, n_layers, dropout=dropout)\n",
    "        self.dropout = nn.Dropout(dropout)\n",
    "        \n",
    "    def forward(self, src):\n",
    "        #src = [src len, batch size] (not batch_first)\n",
    "        \n",
    "        embedded = self.dropout(self.embedding(src)) # look this up more\n",
    "        \n",
    "        #embedded = [src len, batch size, emb dim]\n",
    "        #src len == sequence length\n",
    "        #if batch_first it would be [batch, src (sequence len), emb_dim (input_size)]\n",
    "        \n",
    "        outputs, (hidden, cell) = self.rnn(embedded) # hidden automatically created as zeros\n",
    "        \n",
    "        #outputs = [src len, batch size, hid dim * n directions]\n",
    "        #hidden = [n layers * n directions, batch size, hid dim]\n",
    "        #cell = [n layers * n directions, batch size, hid dim]\n",
    "        \n",
    "        #outputs are always from the top hidden layer\n",
    "        \n",
    "        return hidden, cell"
   ]
  },
  {
   "cell_type": "markdown",
   "metadata": {},
   "source": [
    "## Decoder (2 layer LSTM)\n",
    "The Decoder class does a single step of decoding, i.e. it ouputs single token per time-step. The first layer will receive a hidden and cell state from the previous time-step, $(s_{t-1}^1, c_{t-1}^1)$, and feeds it through the LSTM with the current embedded token, $y_t$, to produce a new hidden and cell state, $(s_t^1, c_t^1)$. The subsequent layers will use the hidden state from the layer below, $s_t^{l-1}$, and the previous hidden and cell states from their layer, $(s_{t-1}^l, c_{t-1}^l)$. This provides equations very similar to those in the encoder.\n",
    "\n",
    "$$\\begin{align*}\n",
    "(s_t^1, c_t^1) = \\text{DecoderLSTM}^1(d(y_t), (s_{t-1}^1, c_{t-1}^1))\\\\\n",
    "(s_t^2, c_t^2) = \\text{DecoderLSTM}^2(s_t^1, (s_{t-1}^2, c_{t-1}^2))\n",
    "\\end{align*}$$\n",
    "\n",
    "\n",
    "The initial hidden and cell states to our decoder are our context vectors, which are the final hidden and cell states of our encoder from the same layer, i.e. $(s_0^l,c_0^l)=z^l=(h_T^l,c_T^l)$.\n",
    "\n",
    "\n",
    "* Output_dim: the size of the vocabulary for the output/target\n",
    "<img src=\"images/decoder.png\">"
   ]
  },
  {
   "cell_type": "code",
   "execution_count": 49,
   "metadata": {},
   "outputs": [],
   "source": [
    "class Decoder(nn.Module):\n",
    "    def __init__(self, output_dim, emd_dim, hid_dim, n_layers, dropout):\n",
    "        super(Decoder, self).__init__()\n",
    "        \n",
    "        self.output_dim = output_dim\n",
    "        self.hid_dim = hid_dim\n",
    "        self.n_layers = n_layers\n",
    "        \n",
    "        self.embedding = nn.Embedding(output_dim, emd_dim)\n",
    "        self.rnn = nn.LSTM(emd_dim, hid_dim, n_layers, dropout=dropout)\n",
    "        self.fc_out = nn.Linear(hid_dim, output_dim)\n",
    "        self.dropout = nn.Dropout(dropout)\n",
    "        \n",
    "    def forward(self, input, hidden, cell):\n",
    "        #input = [batch size] cause only 1 time at a time\n",
    "        #hidden = [n layers * n directions, batch size, hid dim]\n",
    "        #cell = [n layers * n directions, batch size, hid dim]\n",
    "        \n",
    "        input = input.unsqueeze(0)\n",
    "        \n",
    "        #input = [1, batch size]\n",
    "        \n",
    "        embedding = self.dropout(self.embedding(input))\n",
    "        \n",
    "        #embedded = [1, batch size, emb dim]\n",
    "        \n",
    "        output, (hidden, cell) = self.rnn(embedding, (hidden, cell))\n",
    "        \n",
    "        #output = [seq len, batch size, hid dim * n directions]\n",
    "        #hidden = [n layers * n directions, batch size, hid dim]\n",
    "        #cell = [n layers * n directions, batch size, hid dim]\n",
    "        \n",
    "        # get rid of the sentence length dimension (check this)\n",
    "        prediction = self.fc_out(output.squeeze(0))\n",
    "        \n",
    "        #prediction = [batch size, output dim]\n",
    "        \n",
    "        return prediction, hidden, cell"
   ]
  },
  {
   "cell_type": "markdown",
   "metadata": {},
   "source": [
    "# Seq2Seq\n",
    "\n",
    "This will handle:\n",
    "\n",
    "* receiving the input/source sentence\n",
    "* using the encoder to produce the context vectors\n",
    "* using the decoder to produce the predicted output/target sentence\n",
    "\n",
    "<img src=\"images/seq2seq4.png\">\n",
    "\n",
    "During each iteration of the loop, we:\n",
    "\n",
    "* pass the input, previous hidden and previous cell states ($y_t, s_{t-1}, c_{t-1}$) into the decoder\n",
    "* receive a prediction, next hidden state and next cell state ($\\hat{y}_{t+1}, s_{t}, c_{t}$) from the decoder\n",
    "* place our prediction, $\\hat{y}_{t+1}$/output in our tensor of predictions, $\\hat{Y}$/outputs\n",
    "* decide if we are going to \"teacher force\" or not\n",
    "* if we do, the next input is the ground-truth next token in the sequence, $y_{t+1}$/trg[t]\n",
    "* if we don't, the next input is the predicted next token in the sequence, $\\hat{y}_{t+1}$/top1, which we get by doing an argmax over the output tensor\n",
    "Once we've made all of our predictions, we return our tensor full of predictions, $\\hat{Y}$/outputs.\n",
    "\n",
    "**Note:** our decoder loop starts at 1, not 0. This means the 0th element of our outputs tensor remains all zeros. So our trg and outputs look something like:\n",
    "\n",
    "$$\\begin{align*}\n",
    "\\text{trg} = [<sos>, y_1, y_2, y_3, <eos>]\\\\\n",
    "\\text{outputs} = [0, \\hat{y}_1, \\hat{y}_2, \\hat{y}_3, <eos>]\n",
    "\\end{align*}$$\n",
    "Later on when we calculate the loss, we cut off the first element of each tensor to get:\n",
    "\n",
    "$$\\begin{align*}\n",
    "\\text{trg} = [y_1, y_2, y_3, <eos>]\\\\\n",
    "\\text{outputs} = [\\hat{y}_1, \\hat{y}_2, \\hat{y}_3, <eos>]\n",
    "\\end{align*}$$"
   ]
  },
  {
   "cell_type": "code",
   "execution_count": 50,
   "metadata": {},
   "outputs": [],
   "source": [
    "class Seq2Seq(nn.Module):\n",
    "    def __init__(self, encoder, decoder, device):\n",
    "        super(Seq2Seq, self).__init__()\n",
    "        \n",
    "        self.encoder = encoder\n",
    "        self.decoder = decoder\n",
    "        self.device = device\n",
    "        \n",
    "        assert encoder.hid_dim == decoder.hid_dim, \\\n",
    "            \"Hidden dimensions of encoder and decoder must be equal!\"\n",
    "        assert encoder.n_layers == decoder.n_layers, \\\n",
    "            \"Encoder and decoder must have equal number of layers!\"\n",
    "        \n",
    "    def forward(self, src, trg, teacher_forcing_ratio=0.5):\n",
    "        #src = [src len, batch size]\n",
    "        #trg = [trg len, batch size]\n",
    "        #teacher_forcing_ratio is probability to use teacher forcing\n",
    "        #e.g. if teacher_forcing_ratio is 0.75 we use ground-truth inputs 75% of the time\n",
    "        \n",
    "        batch_size = trg.shape[1]\n",
    "        trg_length = trg.shape[0]\n",
    "        trg_vocab_size = self.decoder.output_dim\n",
    "        \n",
    "        #tensor to store decoder outputs\n",
    "        outputs = torch.zeros(trg_length, batch_size, trg_vocab_size).to(self.device)\n",
    "        \n",
    "        #last hidden state of the encoder is used as the initial hidden state of the decoder\n",
    "        hidden, cell = self.encoder(src)\n",
    "        \n",
    "        #first input to the decoder is the <sos> token\n",
    "        input = trg[0,:]\n",
    "        #print(f\"decoder input in training: {input}\")\n",
    "        #print(f\"input shape: {input.shape}\")\n",
    "        \n",
    "        for t in range(1, trg_length):\n",
    "            #insert input token embedding, previous hidden and previous cell states\n",
    "            #receive output tensor (predictions) and new hidden and cell states\n",
    "            output, hidden, cell = self.decoder(input, hidden, cell)\n",
    "            \n",
    "            #place predictions in a tensor holding predictions for each token\n",
    "            outputs[t] = output\n",
    "            \n",
    "            #decide if we are going to use teacher forcing or not -- check this\n",
    "            teacher_force = random.random() < teacher_forcing_ratio\n",
    "            \n",
    "            #get the highest predicted token from our predictions\n",
    "            top1 = output.argmax(1) \n",
    "            \n",
    "            #if teacher forcing, use actual next token as next input\n",
    "            #if not, use predicted token\n",
    "            input = trg[t] if teacher_force else top1\n",
    "            \n",
    "        return outputs"
   ]
  },
  {
   "cell_type": "markdown",
   "metadata": {},
   "source": [
    "# Training Seq2Seq model\n",
    "\n",
    "* The input and output dimensions are defined by the size of the vocabulary. \n",
    "* The embedding dimesions and dropout for the encoder and decoder can be different, but the number of layers and the size of the hidden/cell states must be the same.\n",
    "\n"
   ]
  },
  {
   "cell_type": "code",
   "execution_count": 51,
   "metadata": {},
   "outputs": [],
   "source": [
    "INPUT_DIM = len(SRC.vocab)\n",
    "OUTPUT_DIM = len(TRG.vocab)\n",
    "ENC_EMB_DIM = 256\n",
    "DEC_EMB_DIM = 256\n",
    "HID_DIM = 512\n",
    "N_LAYERS = 2\n",
    "ENC_DROPOUT = 0.5\n",
    "DEC_DROPOUT = 0.5\n",
    "LEARNING_RATE = 0.01\n",
    "\n",
    "enc = Encoder(INPUT_DIM, ENC_EMB_DIM, HID_DIM, N_LAYERS, ENC_DROPOUT)\n",
    "dec = Decoder(OUTPUT_DIM, DEC_EMB_DIM, HID_DIM, N_LAYERS, DEC_DROPOUT)\n",
    "\n",
    "model = Seq2Seq(enc, dec, device).to(device)"
   ]
  },
  {
   "cell_type": "markdown",
   "metadata": {},
   "source": [
    "Initialize the weights of our model. In the paper they state they initialize all weights from a uniform distribution between -0.08 and +0.08, i.e. $\\mathcal{U}(-0.08, 0.08)$.\n",
    "\n",
    "Initialize weights in PyTorch by creating a function which we apply to our model. When using apply, the init_weights function will be called on every module and sub-module within our model. For each module we loop through all of the parameters and sample them from a uniform distribution with nn.init.uniform_."
   ]
  },
  {
   "cell_type": "code",
   "execution_count": 52,
   "metadata": {},
   "outputs": [
    {
     "data": {
      "text/plain": [
       "Seq2Seq(\n",
       "  (encoder): Encoder(\n",
       "    (embedding): Embedding(7855, 256)\n",
       "    (rnn): LSTM(256, 512, num_layers=2, dropout=0.5)\n",
       "    (dropout): Dropout(p=0.5, inplace=False)\n",
       "  )\n",
       "  (decoder): Decoder(\n",
       "    (embedding): Embedding(5893, 256)\n",
       "    (rnn): LSTM(256, 512, num_layers=2, dropout=0.5)\n",
       "    (fc_out): Linear(in_features=512, out_features=5893, bias=True)\n",
       "    (dropout): Dropout(p=0.5, inplace=False)\n",
       "  )\n",
       ")"
      ]
     },
     "execution_count": 52,
     "metadata": {},
     "output_type": "execute_result"
    }
   ],
   "source": [
    "def init_weights(m):\n",
    "    for name, param in m.named_parameters():\n",
    "        nn.init.uniform_(param.data, -0.08, 0.08)\n",
    "\n",
    "model.apply(init_weights)"
   ]
  },
  {
   "cell_type": "markdown",
   "metadata": {},
   "source": [
    "calculate number of trainable parameters in model"
   ]
  },
  {
   "cell_type": "code",
   "execution_count": 53,
   "metadata": {},
   "outputs": [
    {
     "name": "stdout",
     "output_type": "stream",
     "text": [
      "The model has 13,899,013 trainable parameters\n"
     ]
    }
   ],
   "source": [
    "def count_parameters(model):\n",
    "    # numel: returns the total number of elements in the input tensor\n",
    "    return sum(p.numel() for p in model.parameters() if p.requires_grad)\n",
    "\n",
    "print(f\"The model has {count_parameters(model):,} trainable parameters\")"
   ]
  },
  {
   "cell_type": "code",
   "execution_count": 54,
   "metadata": {},
   "outputs": [],
   "source": [
    "# optimizer\n",
    "# lr default = 1; change this \n",
    "optimizer = torch.optim.Adam(model.parameters(), lr=LEARNING_RATE)"
   ]
  },
  {
   "cell_type": "markdown",
   "metadata": {},
   "source": [
    "Next, define loss function. The CrossEntropyLoss function calculates both the log softmax as well as the negative log-likelihood of predictions.\n",
    "\n",
    "loss function calculates the average loss per token, however by passing the index of the 'pad' token as the ignore_index argument it ignores the loss whenever the target token is a padding token."
   ]
  },
  {
   "cell_type": "code",
   "execution_count": 55,
   "metadata": {},
   "outputs": [],
   "source": [
    "TRG_PAD_IDX = TRG.vocab.stoi[TRG.pad_token]\n",
    "criterion = nn.CrossEntropyLoss(ignore_index = TRG_PAD_IDX)"
   ]
  },
  {
   "cell_type": "markdown",
   "metadata": {},
   "source": [
    "Training Loop:\n",
    "\n",
    "set the model into \"training mode\" with model.train(). This will turn on dropout (and batch normalization, which isn't being using) and then iterate through our data iterator.\n",
    "\n",
    "\n",
    "decoder loop starts at 1, not 0. This means the 0th element of our outputs tensor remains all zeros. So our trg and outputs look something like:\n",
    "\n",
    "$$\\begin{align*}\n",
    "\\text{trg} = [<sos>, y_1, y_2, y_3, <eos>]\\\\\n",
    "\\text{outputs} = [0, \\hat{y}_1, \\hat{y}_2, \\hat{y}_3, <eos>]\n",
    "\\end{align*}$$\n",
    "Here, when we calculate the loss, we cut off the first element of each tensor to get:\n",
    "\n",
    "$$\\begin{align*}\n",
    "\\text{trg} = [y_1, y_2, y_3, <eos>]\\\\\n",
    "\\text{outputs} = [\\hat{y}_1, \\hat{y}_2, \\hat{y}_3, <eos>]\n",
    "\\end{align*}$$\n",
    "\n",
    "At each iteration:\n",
    "\n",
    "* get the source and target sentences from the batch, $X$ and $Y$\n",
    "* zero the gradients calculated from the last batch\n",
    "* feed the source and target into the model to get the output, $\\hat{Y}$\n",
    "* as the loss function only works on 2d inputs with 1d targets we need to flatten each of them with .view\n",
    " * we slice off the first column of the output and target tensors as mentioned above\n",
    "* calculate the gradients with loss.backward()\n",
    "* clip the gradients to prevent them from exploding (a common issue in RNNs)\n",
    "* update the parameters of the model by doing an optimizer step\n",
    "* sum the loss value to a running total\n",
    "\n",
    "Finally, return the loss that is averaged over all batches."
   ]
  },
  {
   "cell_type": "code",
   "execution_count": 56,
   "metadata": {},
   "outputs": [],
   "source": [
    "def train(model, iterator, optimizer, criterion, clip):\n",
    "    \n",
    "    model.train()\n",
    "    \n",
    "    epoch_loss = 0\n",
    "    \n",
    "    for i, batch in enumerate(iterator):\n",
    "        \n",
    "        src = batch.src\n",
    "        trg = batch.trg\n",
    "        \n",
    "        optimizer.zero_grad()\n",
    "        \n",
    "        output = model(src, trg)\n",
    "        \n",
    "        #trg = [trg len, batch size]\n",
    "        #output = [trg len, batch size, output dim]\n",
    "        \n",
    "        output_dim = output.shape[-1]\n",
    "        \n",
    "        output = output[1:].view(-1, output_dim)\n",
    "        trg = trg[1:].view(-1)\n",
    "        \n",
    "        #output = [(trg len - 1) * batch size, output dim]\n",
    "        #trg = [(trg len - 1) * batch size]\n",
    "        \n",
    "        loss = criterion(output, trg)\n",
    "        loss.backward()\n",
    "        \n",
    "        # grad clipping\n",
    "        torch.nn.utils.clip_grad_norm_(model.parameters(), clip)\n",
    "        \n",
    "        optimizer.step()\n",
    "        \n",
    "        epoch_loss += loss.item()\n",
    "        \n",
    "    return epoch_loss / len(iterator) #(cause this is only 1 epoch)"
   ]
  },
  {
   "cell_type": "markdown",
   "metadata": {},
   "source": [
    "Evaluation Loop:\n",
    "\n",
    "Similar to train execpt model.eval()"
   ]
  },
  {
   "cell_type": "code",
   "execution_count": 57,
   "metadata": {},
   "outputs": [],
   "source": [
    "def evaluate(model, iterator, criterion):\n",
    "    \n",
    "    model.eval()\n",
    "    \n",
    "    epoch_loss = 0\n",
    "    \n",
    "    with torch.no_grad():\n",
    "        \n",
    "        for i, batch in enumerate(iterator):\n",
    "            \n",
    "            src = batch.src\n",
    "            trg = batch.trg\n",
    "            \n",
    "            output = model(src, trg, 0) #turn off teacher forcing\n",
    "            \n",
    "            #trg = [trg len, batch size]\n",
    "            #output = [trg len, batch size, output dim]\n",
    "            \n",
    "            output_dim = output.shape[-1]\n",
    "            \n",
    "            output = output[1:].view(-1, output_dim)\n",
    "            trg = trg[1:].view(-1)\n",
    "            \n",
    "            #trg = [(trg len - 1) * batch size]\n",
    "            #output = [(trg len - 1) * batch size, output dim]\n",
    "            \n",
    "            loss = criterion(output, trg)\n",
    "            \n",
    "            epoch_loss += loss.item()\n",
    "            \n",
    "    return epoch_loss / len(iterator)"
   ]
  },
  {
   "cell_type": "code",
   "execution_count": 58,
   "metadata": {},
   "outputs": [],
   "source": [
    "def epoch_time(start_time, end_time):\n",
    "    elapsed_time = end_time - start_time\n",
    "    elapsed_mins = int(elapsed_time / 60)\n",
    "    elapsed_secs = int(elapsed_time - (elapsed_mins * 60))\n",
    "    return elapsed_mins, elapsed_secs"
   ]
  },
  {
   "cell_type": "markdown",
   "metadata": {},
   "source": [
    "# Start Training\n",
    "\n",
    "At each epoch, checking if model has achieved the best validation loss so far. If it has, update the best validation loss and save the parameters of the model (called state_dict in PyTorch). Then, when its time to test the model, we'll use the saved parameters used to achieve the best validation loss.\n",
    "\n",
    "Printing out both the loss and the perplexity at each epoch. It is easier to see a change in perplexity than a change in loss as the numbers are much bigger."
   ]
  },
  {
   "cell_type": "code",
   "execution_count": null,
   "metadata": {},
   "outputs": [
    {
     "name": "stdout",
     "output_type": "stream",
     "text": [
      "Epoch: 01 | Time: 0m 24s\n",
      "\tTrain Loss: 4.836 | Train PPL: 125.943\n",
      "\tVal Loss: 5.235 | Val PPL: 187.767\n",
      "Epoch: 02 | Time: 0m 24s\n",
      "\tTrain Loss: 4.348 | Train PPL:  77.321\n",
      "\tVal Loss: 5.051 | Val PPL: 156.211\n",
      "Epoch: 03 | Time: 0m 25s\n",
      "\tTrain Loss: 4.224 | Train PPL:  68.325\n",
      "\tVal Loss: 5.009 | Val PPL: 149.706\n",
      "Epoch: 04 | Time: 0m 25s\n",
      "\tTrain Loss: 4.122 | Train PPL:  61.702\n",
      "\tVal Loss: 4.757 | Val PPL: 116.408\n",
      "Epoch: 05 | Time: 0m 24s\n",
      "\tTrain Loss: 4.003 | Train PPL:  54.754\n",
      "\tVal Loss: 4.689 | Val PPL: 108.756\n",
      "Epoch: 06 | Time: 0m 25s\n",
      "\tTrain Loss: 3.897 | Train PPL:  49.260\n",
      "\tVal Loss: 4.556 | Val PPL:  95.213\n",
      "Epoch: 07 | Time: 0m 25s\n",
      "\tTrain Loss: 3.835 | Train PPL:  46.283\n",
      "\tVal Loss: 4.491 | Val PPL:  89.232\n",
      "Epoch: 08 | Time: 0m 25s\n",
      "\tTrain Loss: 3.785 | Train PPL:  44.040\n",
      "\tVal Loss: 4.442 | Val PPL:  84.920\n",
      "Epoch: 09 | Time: 0m 25s\n",
      "\tTrain Loss: 3.711 | Train PPL:  40.912\n",
      "\tVal Loss: 4.445 | Val PPL:  85.178\n",
      "Epoch: 10 | Time: 0m 24s\n",
      "\tTrain Loss: 3.675 | Train PPL:  39.432\n",
      "\tVal Loss: 4.532 | Val PPL:  92.905\n",
      "Epoch: 11 | Time: 0m 25s\n",
      "\tTrain Loss: 3.595 | Train PPL:  36.398\n",
      "\tVal Loss: 4.415 | Val PPL:  82.687\n",
      "Epoch: 12 | Time: 0m 25s\n",
      "\tTrain Loss: 3.608 | Train PPL:  36.888\n",
      "\tVal Loss: 4.427 | Val PPL:  83.677\n",
      "Epoch: 13 | Time: 0m 25s\n",
      "\tTrain Loss: 3.587 | Train PPL:  36.142\n",
      "\tVal Loss: 4.435 | Val PPL:  84.328\n",
      "Epoch: 14 | Time: 0m 25s\n",
      "\tTrain Loss: 3.534 | Train PPL:  34.251\n",
      "\tVal Loss: 4.380 | Val PPL:  79.806\n",
      "Epoch: 15 | Time: 0m 24s\n",
      "\tTrain Loss: 3.522 | Train PPL:  33.857\n",
      "\tVal Loss: 4.419 | Val PPL:  82.992\n",
      "Epoch: 16 | Time: 0m 25s\n",
      "\tTrain Loss: 3.514 | Train PPL:  33.574\n",
      "\tVal Loss: 4.380 | Val PPL:  79.836\n",
      "Epoch: 17 | Time: 0m 25s\n",
      "\tTrain Loss: 3.481 | Train PPL:  32.484\n",
      "\tVal Loss: 4.387 | Val PPL:  80.423\n",
      "Epoch: 18 | Time: 0m 25s\n",
      "\tTrain Loss: 3.450 | Train PPL:  31.514\n",
      "\tVal Loss: 4.423 | Val PPL:  83.351\n",
      "Epoch: 19 | Time: 0m 25s\n",
      "\tTrain Loss: 3.462 | Train PPL:  31.894\n",
      "\tVal Loss: 4.393 | Val PPL:  80.905\n",
      "Epoch: 20 | Time: 0m 25s\n",
      "\tTrain Loss: 3.456 | Train PPL:  31.684\n",
      "\tVal Loss: 4.453 | Val PPL:  85.850\n",
      "Epoch: 21 | Time: 0m 25s\n",
      "\tTrain Loss: 3.425 | Train PPL:  30.730\n",
      "\tVal Loss: 4.441 | Val PPL:  84.821\n",
      "Epoch: 22 | Time: 0m 25s\n",
      "\tTrain Loss: 3.431 | Train PPL:  30.913\n",
      "\tVal Loss: 4.457 | Val PPL:  86.215\n",
      "Epoch: 23 | Time: 0m 25s\n",
      "\tTrain Loss: 3.440 | Train PPL:  31.183\n",
      "\tVal Loss: 4.406 | Val PPL:  81.933\n",
      "Epoch: 24 | Time: 0m 25s\n",
      "\tTrain Loss: 3.405 | Train PPL:  30.122\n",
      "\tVal Loss: 4.437 | Val PPL:  84.542\n",
      "Epoch: 25 | Time: 0m 25s\n",
      "\tTrain Loss: 3.423 | Train PPL:  30.663\n",
      "\tVal Loss: 4.462 | Val PPL:  86.676\n",
      "Epoch: 26 | Time: 0m 24s\n",
      "\tTrain Loss: 3.420 | Train PPL:  30.576\n",
      "\tVal Loss: 4.490 | Val PPL:  89.128\n",
      "Epoch: 27 | Time: 0m 25s\n",
      "\tTrain Loss: 3.378 | Train PPL:  29.304\n",
      "\tVal Loss: 4.474 | Val PPL:  87.672\n",
      "Epoch: 28 | Time: 0m 25s\n",
      "\tTrain Loss: 3.387 | Train PPL:  29.587\n",
      "\tVal Loss: 4.449 | Val PPL:  85.500\n",
      "Epoch: 29 | Time: 0m 25s\n",
      "\tTrain Loss: 3.382 | Train PPL:  29.426\n",
      "\tVal Loss: 4.460 | Val PPL:  86.495\n",
      "Epoch: 30 | Time: 0m 25s\n",
      "\tTrain Loss: 3.350 | Train PPL:  28.501\n",
      "\tVal Loss: 4.442 | Val PPL:  84.950\n",
      "Epoch: 31 | Time: 0m 25s\n",
      "\tTrain Loss: 3.342 | Train PPL:  28.286\n",
      "\tVal Loss: 4.510 | Val PPL:  90.880\n",
      "Epoch: 32 | Time: 0m 25s\n",
      "\tTrain Loss: 3.338 | Train PPL:  28.170\n",
      "\tVal Loss: 4.518 | Val PPL:  91.633\n",
      "Epoch: 33 | Time: 0m 25s\n",
      "\tTrain Loss: 3.350 | Train PPL:  28.490\n",
      "\tVal Loss: 4.521 | Val PPL:  91.923\n"
     ]
    }
   ],
   "source": [
    "N_EPOCHS = 100\n",
    "CLIP = 1\n",
    "\n",
    "best_valid_loss = float('inf')\n",
    "\n",
    "for epoch in range(N_EPOCHS):\n",
    "    \n",
    "    start_time = time.time()\n",
    "    \n",
    "    train_loss = train(model, train_iterator, optimizer, criterion, CLIP)\n",
    "    valid_loss = evaluate(model, valid_iterator, criterion)\n",
    "    \n",
    "    end_time = time.time()\n",
    "    \n",
    "    epoch_mins, epoch_secs = epoch_time(start_time, end_time)\n",
    "    \n",
    "    if valid_loss < best_valid_loss:\n",
    "        best_valid_loss = valid_loss\n",
    "        torch.save(model.state_dict(), 'saved_models/best_model.pt')\n",
    "        \n",
    "    print(f\"Epoch: {epoch+1:02} | Time: {epoch_mins}m {epoch_secs}s\")\n",
    "    print(f\"\\tTrain Loss: {train_loss:.3f} | Train PPL: {math.exp(train_loss):7.3f}\")\n",
    "    print(f\"\\tVal Loss: {valid_loss:.3f} | Val PPL: {math.exp(valid_loss):7.3f}\")"
   ]
  },
  {
   "cell_type": "code",
   "execution_count": 63,
   "metadata": {},
   "outputs": [
    {
     "name": "stdout",
     "output_type": "stream",
     "text": [
      "| Test Loss: 4.393 | Test PPL:  80.910 |\n"
     ]
    }
   ],
   "source": [
    "model.load_state_dict(torch.load('saved_models/best_model.pt'))\n",
    "#map_location=torch.device('cpu')\n",
    "\n",
    "test_loss = evaluate(model, test_iterator, criterion)\n",
    "\n",
    "print(f'| Test Loss: {test_loss:.3f} | Test PPL: {math.exp(test_loss):7.3f} |')"
   ]
  },
  {
   "cell_type": "code",
   "execution_count": 64,
   "metadata": {},
   "outputs": [
    {
     "name": "stdout",
     "output_type": "stream",
     "text": [
      "Seq2Seq(\n",
      "  (encoder): Encoder(\n",
      "    (embedding): Embedding(7855, 256)\n",
      "    (rnn): LSTM(256, 512, num_layers=2, dropout=0.5)\n",
      "    (dropout): Dropout(p=0.5, inplace=False)\n",
      "  )\n",
      "  (decoder): Decoder(\n",
      "    (embedding): Embedding(5893, 256)\n",
      "    (rnn): LSTM(256, 512, num_layers=2, dropout=0.5)\n",
      "    (fc_out): Linear(in_features=512, out_features=5893, bias=True)\n",
      "    (dropout): Dropout(p=0.5, inplace=False)\n",
      "  )\n",
      ")\n"
     ]
    }
   ],
   "source": [
    "print(model)"
   ]
  },
  {
   "cell_type": "code",
   "execution_count": 74,
   "metadata": {},
   "outputs": [],
   "source": [
    "# need to make changes cause model needs trg\n",
    "def predict(model, sentence, device, max_length=50):\n",
    "    #eval\n",
    "    model.eval()\n",
    "    with torch.no_grad():\n",
    "        # tokenize\n",
    "        tokenized = tokenize_de(sentence)\n",
    "        toks = []\n",
    "        toks.append(SRC.vocab.stoi['<sos>'])\n",
    "        for tok in tokenized:\n",
    "            toks.append(SRC.vocab.stoi[tok])\n",
    "        src = torch.LongTensor(toks).unsqueeze(1).to(device)\n",
    "        toks.append(SRC.vocab.stoi['<eos>'])\n",
    "        #print(src.shape)\n",
    "\n",
    "        # pass through encoder\n",
    "        hidden, cell = model.encoder(src)\n",
    "        #print(hidden.shape)\n",
    "        #print(cell.shape)\n",
    "\n",
    "        # decoder one by one\n",
    "\n",
    "        outputs = []\n",
    "        input = torch.LongTensor([TRG.vocab.stoi['<sos>']]).to(device) # [2]\n",
    "        #print(f\"input: {input}\")\n",
    "\n",
    "        for i in range(max_length):\n",
    "            output, hidden, cell = model.decoder(input, hidden, cell)\n",
    "            #print(f\"output shape: {output.shape}\")\n",
    "            #print(f\"output: {output}\")\n",
    "            top = output.argmax(1)\n",
    "            #print(f\"Top: {top}\")\n",
    "            #print(f\"Top str: {TRG.vocab.itos[top]}\")\n",
    "            input = top # [0]\n",
    "            if top == TRG.vocab.stoi['<eos>']:\n",
    "                break\n",
    "            outputs.append(top)\n",
    "\n",
    "        str_output = \"\"\n",
    "        for v in range(len(outputs) - 1):\n",
    "            str_output += str(TRG.vocab.itos[outputs[v].item()]) + \" \"\n",
    "\n",
    "        str_output += str(TRG.vocab.itos[outputs[-1].item()])\n",
    "    return str_output"
   ]
  },
  {
   "cell_type": "code",
   "execution_count": 77,
   "metadata": {},
   "outputs": [],
   "source": [
    "outputs = predict(model, \"Hallo wie geht's\", device)"
   ]
  },
  {
   "cell_type": "code",
   "execution_count": 78,
   "metadata": {},
   "outputs": [
    {
     "name": "stdout",
     "output_type": "stream",
     "text": [
      "a bride is in a a . <eos>\n"
     ]
    }
   ],
   "source": [
    "print(outputs)"
   ]
  },
  {
   "cell_type": "code",
   "execution_count": null,
   "metadata": {},
   "outputs": [],
   "source": []
  }
 ],
 "metadata": {
  "kernelspec": {
   "display_name": "Python 3",
   "language": "python",
   "name": "python3"
  },
  "language_info": {
   "codemirror_mode": {
    "name": "ipython",
    "version": 3
   },
   "file_extension": ".py",
   "mimetype": "text/x-python",
   "name": "python",
   "nbconvert_exporter": "python",
   "pygments_lexer": "ipython3",
   "version": "3.7.9"
  }
 },
 "nbformat": 4,
 "nbformat_minor": 4
}
